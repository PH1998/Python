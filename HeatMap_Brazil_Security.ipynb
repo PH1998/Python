{
  "nbformat": 4,
  "nbformat_minor": 0,
  "metadata": {
    "colab": {
      "provenance": [],
      "authorship_tag": "ABX9TyPWORXvQihG9BpbIshOScYA",
      "include_colab_link": true
    },
    "kernelspec": {
      "name": "python3",
      "display_name": "Python 3"
    },
    "language_info": {
      "name": "python"
    }
  },
  "cells": [
    {
      "cell_type": "markdown",
      "metadata": {
        "id": "view-in-github",
        "colab_type": "text"
      },
      "source": [
        "<a href=\"https://colab.research.google.com/github/PH1998/Python/blob/main/HeatMap_Brazil_Security.ipynb\" target=\"_parent\"><img src=\"https://colab.research.google.com/assets/colab-badge.svg\" alt=\"Open In Colab\"/></a>"
      ]
    },
    {
      "cell_type": "code",
      "execution_count": 8,
      "metadata": {
        "id": "9SLBtHVngYsJ"
      },
      "outputs": [],
      "source": [
        "from google.colab import drive"
      ]
    },
    {
      "cell_type": "code",
      "source": [
        "drive.mount ('/content/drive')"
      ],
      "metadata": {
        "colab": {
          "base_uri": "https://localhost:8080/"
        },
        "id": "Uci8jZ4kqMdp",
        "outputId": "597341a9-e65a-4a06-c251-f625839ddc7c"
      },
      "execution_count": 9,
      "outputs": [
        {
          "output_type": "stream",
          "name": "stdout",
          "text": [
            "Drive already mounted at /content/drive; to attempt to forcibly remount, call drive.mount(\"/content/drive\", force_remount=True).\n"
          ]
        }
      ]
    },
    {
      "cell_type": "code",
      "source": [
        "import pandas as pd\n",
        "df = pd.read_excel('/content/drive/MyDrive/Security Data Brazil/Anual-Estado de São Paulo.xlsx')\n",
        "#print(df)\n",
        "print(df.describe())\n",
        "print(df.corr())\n",
        "import seaborn as sns\n",
        "sns.heatmap(df.corr())"
      ],
      "metadata": {
        "colab": {
          "base_uri": "https://localhost:8080/",
          "height": 695
        },
        "id": "Np2qN_Ugqynf",
        "outputId": "dc9a5c38-8adb-473c-d209-8b184bf06447"
      },
      "execution_count": 21,
      "outputs": [
        {
          "output_type": "stream",
          "name": "stdout",
          "text": [
            "          Homicidio          Furto          Roubo            FRV\n",
            "count     24.000000      24.000000      24.000000      24.000000\n",
            "mean    5974.666667  503405.083333  245344.166667  179400.541667\n",
            "std     3530.602260   52923.612386   33679.222719   33820.413990\n",
            "min     2708.000000  390144.000000  213476.000000   97615.000000\n",
            "25%     3464.250000  484625.500000  219687.000000  162433.750000\n",
            "50%     4437.500000  516073.000000  234210.000000  185233.000000\n",
            "75%     7495.250000  541576.250000  257033.500000  196162.250000\n",
            "max    12818.000000  564960.000000  323274.000000  235036.000000\n",
            "           Homicidio     Furto     Roubo       FRV\n",
            "Homicidio   1.000000 -0.418278 -0.436974  0.632480\n",
            "Furto      -0.418278  1.000000  0.237537 -0.008589\n",
            "Roubo      -0.436974  0.237537  1.000000  0.116182\n",
            "FRV         0.632480 -0.008589  0.116182  1.000000\n"
          ]
        },
        {
          "output_type": "execute_result",
          "data": {
            "text/plain": [
              "<Axes: >"
            ]
          },
          "metadata": {},
          "execution_count": 21
        },
        {
          "output_type": "display_data",
          "data": {
            "text/plain": [
              "<Figure size 640x480 with 2 Axes>"
            ],
            "image/png": "[encoded data removed]"
          },
          "metadata": {}
        }
      ]
    }
  ]
}