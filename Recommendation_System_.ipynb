{
  "nbformat": 4,
  "nbformat_minor": 0,
  "metadata": {
    "colab": {
      "provenance": [],
      "include_colab_link": true
    },
    "kernelspec": {
      "name": "python3",
      "display_name": "Python 3"
    },
    "language_info": {
      "name": "python"
    }
  },
  "cells": [
    {
      "cell_type": "markdown",
      "metadata": {
        "id": "view-in-github",
        "colab_type": "text"
      },
      "source": [
        "<a href=\"https://colab.research.google.com/github/PH1998/Python/blob/main/Recommendation_System_.ipynb\" target=\"_parent\"><img src=\"https://colab.research.google.com/assets/colab-badge.svg\" alt=\"Open In Colab\"/></a>"
      ]
    },
    {
      "cell_type": "code",
      "execution_count": 1,
      "metadata": {
        "id": "AiMmaiIod6He"
      },
      "outputs": [],
      "source": [
        "#Importando biblioteca\n",
        "import pandas as pd\n",
        "\n",
        "# Clientes e seus investimentos\n",
        "clientes = {    'Paula Tejano':\n",
        "                {'Cripto Moeda': 4,\n",
        "                 'CDB': 1,\n",
        "                 'CDI': 3,\n",
        "                 'Carteira personalizada': 15},\n",
        "\n",
        "                'Paulo Brificado':\n",
        "                {\n",
        "                 'SELIC': 2,\n",
        "                 'CDB': 3,\n",
        "                 'CDI': 4},\n",
        "\n",
        "                'Valentim Terra':\n",
        "                {'Cripto Moeda': 1,\n",
        "                 'CDB': 2,\n",
        "                 'CDI': 5,\n",
        "                 'Carteira personalizada': 1},\n",
        "\n",
        "                'Ale Atorio':\n",
        "                {'Cripto Moeda': 10,\n",
        "                 'Carteira personalizada': 2},\n",
        "\n",
        "                   'Advogado Paloma':\n",
        "                {'Cripto Moeda': 12,\n",
        "                 'SELIC': 5,\n",
        "                 'CDB': 1,\n",
        "                 'CDI': 2,\n",
        "                 'Carteira personalizada': 7}\n",
        "}"
      ]
    },
    {
      "cell_type": "code",
      "source": [
        "clientes['Paula Tejano']['CDI']"
      ],
      "metadata": {
        "colab": {
          "base_uri": "https://localhost:8080/"
        },
        "id": "rUKBWJK6eB-9",
        "outputId": "346b076f-c41b-4c8a-f602-78c0ee6b0bce"
      },
      "execution_count": 2,
      "outputs": [
        {
          "output_type": "execute_result",
          "data": {
            "text/plain": [
              "3"
            ]
          },
          "metadata": {},
          "execution_count": 2
        }
      ]
    },
    {
      "cell_type": "code",
      "source": [
        "from math import sqrt\n",
        "def euclidiana(usuario1, usuario2):\n",
        "  si = {}\n",
        "  if not usuario1 in clientes: return -1\n",
        "  if not usuario2 in clientes: return -2\n",
        "  for item in clientes[usuario1]:\n",
        "      if item in clientes[usuario2]: si[item]=1\n",
        "  if len(si) == 0: return -3\n",
        "\n",
        "  soma = sum([pow(clientes[usuario1][item] - clientes[usuario2][item],2)\n",
        "                    for item in clientes[usuario1] if item in clientes[usuario2]])\n",
        "  return sqrt(soma)"
      ],
      "metadata": {
        "id": "2mDZucp7eNRe"
      },
      "execution_count": 3,
      "outputs": []
    },
    {
      "cell_type": "code",
      "source": [
        "print(euclidiana('Advogado Paloma','Valentim Terra'))\n",
        "print(euclidiana('Advogado Paloma','Ale Atorio'))\n",
        "print(euclidiana('Advogado Paloma','Paula Tejano'))"
      ],
      "metadata": {
        "colab": {
          "base_uri": "https://localhost:8080/"
        },
        "id": "yMNWwtFEeTAc",
        "outputId": "725a2fc6-0bd3-41d5-ea53-f00d0213b838"
      },
      "execution_count": 4,
      "outputs": [
        {
          "output_type": "stream",
          "name": "stdout",
          "text": [
            "12.922847983320086\n",
            "5.385164807134504\n",
            "11.357816691600547\n"
          ]
        }
      ]
    },
    {
      "cell_type": "code",
      "source": [
        "def similaridade(usuario1, usuario2):\n",
        "  soma = euclidiana(usuario1, usuario2)\n",
        "  return 1/(1+soma)"
      ],
      "metadata": {
        "id": "FgQf4zo1eWgb"
      },
      "execution_count": 5,
      "outputs": []
    },
    {
      "cell_type": "code",
      "source": [
        "print(similaridade('Advogado Paloma','Valentim Terra'))\n",
        "print(similaridade('Advogado Paloma','Ale Atorio'))\n",
        "print(similaridade('Advogado Paloma','Paula Tejano'))"
      ],
      "metadata": {
        "colab": {
          "base_uri": "https://localhost:8080/"
        },
        "id": "GhMCbDKqemBr",
        "outputId": "0258e0bc-3288-48be-8fe2-22fbacce9ff9"
      },
      "execution_count": 6,
      "outputs": [
        {
          "output_type": "stream",
          "name": "stdout",
          "text": [
            "0.07182438544168726\n",
            "0.1566130288262323\n",
            "0.08092044290312927\n"
          ]
        }
      ]
    },
    {
      "cell_type": "code",
      "source": [
        "#Similaridade\n",
        "\n",
        "def getSimilares(usuario):\n",
        "  listaSimilaridade = [(similaridade(usuario, outro), outro)\n",
        "      for outro in clientes if outro != usuario]\n",
        "  listaSimilaridade.sort()\n",
        "  listaSimilaridade.reverse()\n",
        "  return listaSimilaridade"
      ],
      "metadata": {
        "id": "qZo1R2Bneo4L"
      },
      "execution_count": 7,
      "outputs": []
    },
    {
      "cell_type": "code",
      "source": [
        "#Print dos clientes e suas similaridades de investimento\n",
        "print(getSimilares('Paula Tejano'))\n",
        "print(getSimilares('Paulo Brificado'))\n",
        "print(getSimilares('Valentim Terra'))\n",
        "print(getSimilares('Ale Atorio'))\n",
        "print(getSimilares('Advogado Paloma'))\n"
      ],
      "metadata": {
        "colab": {
          "base_uri": "https://localhost:8080/"
        },
        "id": "7ko1OAlHerLb",
        "outputId": "1455e61a-6939-4653-abd2-b59a9c2ce146"
      },
      "execution_count": 8,
      "outputs": [
        {
          "output_type": "stream",
          "name": "stdout",
          "text": [
            "[(0.3090169943749474, 'Paulo Brificado'), (0.08092044290312927, 'Advogado Paloma'), (0.065283436584688, 'Ale Atorio'), (0.06455204184779637, 'Valentim Terra')]\n",
            "[(0.4142135623730951, 'Valentim Terra'), (0.3090169943749474, 'Paula Tejano'), (0.1951941016011038, 'Advogado Paloma'), (-0.5, 'Ale Atorio')]\n",
            "[(0.4142135623730951, 'Paulo Brificado'), (0.0994491992362644, 'Ale Atorio'), (0.07182438544168726, 'Advogado Paloma'), (0.06455204184779637, 'Paula Tejano')]\n",
            "[(0.1566130288262323, 'Advogado Paloma'), (0.0994491992362644, 'Valentim Terra'), (0.065283436584688, 'Paula Tejano'), (-0.5, 'Paulo Brificado')]\n",
            "[(0.1951941016011038, 'Paulo Brificado'), (0.1566130288262323, 'Ale Atorio'), (0.08092044290312927, 'Paula Tejano'), (0.07182438544168726, 'Valentim Terra')]\n"
          ]
        }
      ]
    }
  ]
}